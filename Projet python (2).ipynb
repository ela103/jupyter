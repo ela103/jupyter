{
 "cells": [
  {
   "cell_type": "code",
   "execution_count": 1,
   "id": "6893eda9",
   "metadata": {},
   "outputs": [],
   "source": [
    "import json\n",
    "from datetime import datetime\n",
    "import matplotlib.pyplot as plt"
   ]
  },
  {
   "cell_type": "code",
   "execution_count": 2,
   "id": "323f2b70",
   "metadata": {},
   "outputs": [
    {
     "name": "stdout",
     "output_type": "stream",
     "text": [
      "21654552;ahmed;ahmed;homme;30\n",
      "5555;mmmm;mmmmm;mmm;40\n",
      "222222;mmmm;kkkk;lll;40\n",
      "21654551;mohamed;mohamed;homme;26\n",
      "\n"
     ]
    }
   ],
   "source": [
    "def remplir_fichier_patient(DPatient):\n",
    "    with open('patient.txt', 'a') as f:\n",
    "        f.write(f\"{DPatient['Cin']};{DPatient['nom']};{DPatient['prenom']};{DPatient['sexe']};{DPatient['age']}\\n\")\n",
    "\n",
    "# Exemple d'utilisation\n",
    "DPatient = {'Cin': '21654551', 'nom': 'mohamed', 'prenom': 'mohamed', 'sexe': 'homme', 'age': '26'}\n",
    "remplir_fichier_patient(DPatient)\n",
    "\n",
    "# Affichage du contenu du fichier\n",
    "with open('patient.txt', 'r') as f:\n",
    "    print(f.read())"
   ]
  },
  {
   "cell_type": "code",
   "execution_count": 3,
   "id": "72765a29",
   "metadata": {},
   "outputs": [
    {
     "name": "stdout",
     "output_type": "stream",
     "text": [
      "21654552;ahmed;ahmed;homme;30\n",
      "5555;mmmm;mmmmm;mmm;40\n",
      "222222;mmmm;kkkk;lll;40\n",
      "21654551;mohamed;mohamed;homme;26\n",
      "21654552;ahmed;ahmed;homme;30\n",
      "\n"
     ]
    }
   ],
   "source": [
    "def ajouter_patient(DPatient):\n",
    "    remplir_fichier_patient(DPatient)\n",
    "\n",
    "# Exemple d'utilisation\n",
    "DPatient2 = {'Cin': '21654552', 'nom': 'ahmed', 'prenom': 'ahmed', 'sexe': 'homme', 'age': '30'}\n",
    "ajouter_patient(DPatient2)\n",
    "\n",
    "# Affichage du contenu du fichier\n",
    "with open('patient.txt', 'r') as f:\n",
    "    print(f.read())"
   ]
  },
  {
   "cell_type": "code",
   "execution_count": 4,
   "id": "8df35761",
   "metadata": {},
   "outputs": [
    {
     "name": "stdout",
     "output_type": "stream",
     "text": [
      "21654552;ahmed;ahmed;homme;30\n",
      "5555;mmmm;mmmmm;mmm;40\n",
      "222222;mmmm;kkkk;lll;40\n",
      "21654552;ahmed;ahmed;homme;30\n",
      "\n"
     ]
    }
   ],
   "source": [
    "def supprimer_patient(cin):\n",
    "    lignes = []\n",
    "    with open('patient.txt', 'r') as f:\n",
    "        lignes = f.readlines()\n",
    "    \n",
    "    with open('patient.txt', 'w') as f:\n",
    "        for ligne in lignes:\n",
    "            if not ligne.startswith(cin):\n",
    "                f.write(ligne)\n",
    "\n",
    "# Exemple d'utilisation\n",
    "supprimer_patient('21654551')\n",
    "\n",
    "# Affichage du contenu du fichier\n",
    "with open('patient.txt', 'r') as f:\n",
    "    print(f.read())\n"
   ]
  },
  {
   "cell_type": "code",
   "execution_count": 5,
   "id": "0dd805b7",
   "metadata": {},
   "outputs": [
    {
     "name": "stdout",
     "output_type": "stream",
     "text": [
      "21654552;2023-10-01;14:30\n",
      "\n"
     ]
    }
   ],
   "source": [
    "def ajouter_rendez_vous(cin, date, heure):\n",
    "    with open('rdv.txt', 'a') as f:\n",
    "        f.write(f\"{cin};{date};{heure}\\n\")\n",
    "\n",
    "# Exemple d'utilisation\n",
    "ajouter_rendez_vous('21654552', '2023-10-01', '14:30')\n",
    "\n",
    "# Affichage du contenu du fichier\n",
    "with open('rdv.txt', 'r') as f:\n",
    "    print(f.read())"
   ]
  },
  {
   "cell_type": "code",
   "execution_count": 6,
   "id": "17cba905",
   "metadata": {},
   "outputs": [
    {
     "name": "stdout",
     "output_type": "stream",
     "text": [
      "\n"
     ]
    }
   ],
   "source": [
    "def annuler_rendez_vous(cin, date, heure):\n",
    "    lignes = []\n",
    "    with open('rdv.txt', 'r') as f:\n",
    "        lignes = f.readlines()\n",
    "    \n",
    "    with open('rdv.txt', 'w') as f:\n",
    "        for ligne in lignes:\n",
    "            if not ligne.startswith(f\"{cin};{date};{heure}\"):\n",
    "                f.write(ligne)\n",
    "\n",
    "# Exemple d'utilisation\n",
    "annuler_rendez_vous('21654552', '2023-10-01', '14:30')\n",
    "\n",
    "# Affichage du contenu du fichier\n",
    "with open('rdv.txt', 'r') as f:\n",
    "    print(f.read())"
   ]
  },
  {
   "cell_type": "code",
   "execution_count": 7,
   "id": "797a1243",
   "metadata": {},
   "outputs": [
    {
     "name": "stdout",
     "output_type": "stream",
     "text": [
      "\n"
     ]
    }
   ],
   "source": [
    "def modifier_rendez_vous(cin, ancienne_date, ancienne_heure, nouvelle_date, nouvelle_heure):\n",
    "    lignes = []\n",
    "    with open('rdv.txt', 'r') as f:\n",
    "        lignes = f.readlines()\n",
    "    \n",
    "    with open('rdv.txt', 'w') as f:\n",
    "        for ligne in lignes:\n",
    "            if ligne.startswith(f\"{cin};{ancienne_date};{ancienne_heure}\"):\n",
    "                f.write(f\"{cin};{nouvelle_date};{nouvelle_heure}\\n\")\n",
    "            else:\n",
    "                f.write(ligne)\n",
    "\n",
    "# Exemple d'utilisation\n",
    "modifier_rendez_vous('21654552', '2023-10-01', '14:30', '2023-10-02', '15:00')\n",
    "\n",
    "# Affichage du contenu du fichier\n",
    "with open('rdv.txt', 'r') as f:\n",
    "    print(f.read())\n"
   ]
  },
  {
   "cell_type": "code",
   "execution_count": 8,
   "id": "e27f3802",
   "metadata": {},
   "outputs": [
    {
     "name": "stdout",
     "output_type": "stream",
     "text": [
      "21654552;ahmed;ahmed;2023-10-02;15:00\n",
      "Paracetamol;2;5 jours\n",
      "\n"
     ]
    }
   ],
   "source": [
    "def creer_ordonnance(cin, nom, prenom, date_rdv, heure, medicaments):\n",
    "    with open(f'ordonnance_{nom}_{prenom}.txt', 'w') as f:\n",
    "        f.write(f\"{cin};{nom};{prenom};{date_rdv};{heure}\\n\")\n",
    "        for medicament in medicaments:\n",
    "            f.write(f\"{medicament['nom']};{medicament['quantite']};{medicament['duree']}\\n\")\n",
    "\n",
    "# Exemple d'utilisation\n",
    "medicaments = [{'nom': 'Paracetamol', 'quantite': '2', 'duree': '5 jours'}]\n",
    "creer_ordonnance('21654552', 'ahmed', 'ahmed', '2023-10-02', '15:00', medicaments)\n",
    "\n",
    "# Affichage du contenu de l'ordonnance\n",
    "with open('ordonnance_ahmed_ahmed.txt', 'r') as f:\n",
    "    print(f.read())"
   ]
  },
  {
   "cell_type": "code",
   "execution_count": 9,
   "id": "ca3749e1",
   "metadata": {},
   "outputs": [
    {
     "name": "stdout",
     "output_type": "stream",
     "text": [
      "Consultation 1: 2023-10-01\n",
      "Consultation 2: 2023-10-02\n",
      "\n"
     ]
    }
   ],
   "source": [
    "def historique_patient(cin):\n",
    "    with open(f'historique_{cin}.txt', 'w') as f:\n",
    "        # Simuler l'historique\n",
    "        f.write(f\"Consultation 1: 2023-10-01\\n\")\n",
    "        f.write(f\"Consultation 2: 2023-10-02\\n\")\n",
    "\n",
    "# Exemple d'utilisation\n",
    "historique_patient('21654552')\n",
    "\n",
    "# Affichage du contenu de l'historique\n",
    "with open('historique_21654552.txt', 'r') as f:\n",
    "    print(f.read())\n"
   ]
  },
  {
   "cell_type": "code",
   "execution_count": 10,
   "id": "3b590c3e",
   "metadata": {},
   "outputs": [],
   "source": [
    "import matplotlib.pyplot as plt\n",
    "from collections import Counter"
   ]
  },
  {
   "cell_type": "code",
   "execution_count": 11,
   "id": "ae9310aa",
   "metadata": {},
   "outputs": [
    {
     "data": {
      "image/png": "[encoded data removed]",
      "text/plain": [
       "<Figure size 640x480 with 1 Axes>"
      ]
     },
     "metadata": {},
     "output_type": "display_data"
    }
   ],
   "source": [
    "def tracer_courbe_mensuelle():\n",
    "    # Simuler des données de consultations\n",
    "    consultations = ['2023-01', '2023-01', '2023-02', '2023-02', '2023-02', '2023-03']\n",
    "    compteur = Counter(consultations)\n",
    "    \n",
    "    mois = list(compteur.keys())\n",
    "    nombres = list(compteur.values())\n",
    "    \n",
    "    plt.bar(mois, nombres)\n",
    "    plt.xlabel('Mois')\n",
    "    plt.ylabel('Nombre de consultations')\n",
    "    plt.title('Nombre de consultations par mois')\n",
    "    plt.show()\n",
    "\n",
    "# Exemple d'utilisation\n",
    "tracer_courbe_mensuelle()"
   ]
  },
  {
   "cell_type": "code",
   "execution_count": 12,
   "id": "459429e9",
   "metadata": {},
   "outputs": [
    {
     "data": {
      "image/png": "[encoded data removed]",
      "text/plain": [
       "<Figure size 640x480 with 1 Axes>"
      ]
     },
     "metadata": {},
     "output_type": "display_data"
    }
   ],
   "source": [
    "def tracer_courbe_annuelle():\n",
    "    # Simuler des données de consultations\n",
    "    consultations = ['2023', '2023', '2023', '2024', '2024']\n",
    "    compteur = Counter(consultations)\n",
    "    \n",
    "    annees = list(compteur.keys())\n",
    "    nombres = list(compteur.values())\n",
    "    \n",
    "    plt.bar(annees, nombres)\n",
    "    plt.xlabel('Année')\n",
    "    plt.ylabel('Nombre de consultations')\n",
    "    plt.title('Nombre de consultations par année')\n",
    "    plt.show()\n",
    "    # Exemple d'utilisation\n",
    "tracer_courbe_annuelle()"
   ]
  },
  {
   "cell_type": "code",
   "execution_count": null,
   "id": "1d40ceb0",
   "metadata": {},
   "outputs": [
    {
     "name": "stdout",
     "output_type": "stream",
     "text": [
      "\n",
      "Menu:\n",
      "1. Ajouter un patient\n",
      "2. Supprimer un patient\n",
      "3. Ajouter un rendez-vous\n",
      "4. Annuler un rendez-vous\n",
      "5. Modifier un rendez-vous\n",
      "6. Créer une ordonnance\n",
      "7. Historique des consultations\n",
      "8. Tracer consultations par mois\n",
      "9. Tracer consultations par année\n",
      "10. Quitter\n"
     ]
    }
   ],
   "source": [
    "def main():\n",
    "    while True:\n",
    "        print(\"\\nMenu:\")\n",
    "        print(\"1. Ajouter un patient\")\n",
    "        print(\"2. Supprimer un patient\")\n",
    "        print(\"3. Ajouter un rendez-vous\")\n",
    "        print(\"4. Annuler un rendez-vous\")\n",
    "        print(\"5. Modifier un rendez-vous\")\n",
    "        print(\"6. Créer une ordonnance\")\n",
    "        print(\"7. Historique des consultations\")\n",
    "        print(\"8. Tracer consultations par mois\")\n",
    "        print(\"9. Tracer consultations par année\")\n",
    "        print(\"10. Quitter\")\n",
    "        \n",
    "        choix = input(\"Choisissez une option: \")\n",
    "        \n",
    "        if choix == '1':\n",
    "            # Ajouter un patient\n",
    "            cin = input(\"CIN: \")\n",
    "            nom = input(\"Nom: \")\n",
    "            prenom = input(\"Prénom: \")\n",
    "            sexe = input(\"Sexe (homme/femme): \")\n",
    "            age = input(\"Âge: \")\n",
    "            dictionnaire_patient = {\n",
    "                'Cin': cin,\n",
    "                'nom': nom,\n",
    "                'prenom': prenom,\n",
    "                'sexe': sexe,\n",
    "                'age': age\n",
    "            }\n",
    "            ajouter_patient(dictionnaire_patient)\n",
    "            print(f\"Patient {nom} {prenom} ajouté avec succès.\")\n",
    "        \n",
    "        elif choix == '2':\n",
    "            # Supprimer un patient\n",
    "            cin = input(\"Entrez le CIN du patient à supprimer: \")\n",
    "            supprimer_patient(cin)\n",
    "            print(f\"Patient avec CIN {cin} supprimé.\")\n",
    "        \n",
    "        elif choix == '3':\n",
    "            # Ajouter un rendez-vous\n",
    "            cin = input(\"CIN du patient: \")\n",
    "            date_rdv = input(\"Date du rendez-vous (YYYY-MM-DD): \")\n",
    "            heure = input(\"Heure du rendez-vous (HH:MM): \")\n",
    "            ajouter_rendez_vous(cin, date_rdv, heure)\n",
    "            print(f\"Rendez-vous ajouté pour le patient {cin} le {date_rdv} à {heure}.\")\n",
    "        \n",
    "        elif choix == '4':\n",
    "            # Annuler un rendez-vous\n",
    "            cin = input(\"CIN du patient: \")\n",
    "            date_rdv = input(\"Date du rendez-vous à annuler (YYYY-MM-DD): \")\n",
    "            heure = input(\"Heure du rendez-vous à annuler (HH:MM): \")\n",
    "            annuler_rendez_vous(cin, date_rdv, heure)\n",
    "            print(f\"Rendez-vous du {date_rdv} à {heure} annulé pour le patient {cin}.\")\n",
    "        \n",
    "        elif choix == '5':\n",
    "            # Modifier un rendez-vous\n",
    "            cin = input(\"CIN du patient: \")\n",
    "            ancienne_date = input(\"Ancienne date du rendez-vous (YYYY-MM-DD): \")\n",
    "            ancienne_heure = input(\"Ancienne heure du rendez-vous (HH:MM): \")\n",
    "            nouvelle_date = input(\"Nouvelle date du rendez-vous (YYYY-MM-DD): \")\n",
    "            nouvelle_heure = input(\"Nouvelle heure du rendez-vous (HH:MM): \")\n",
    "            modifier_rendez_vous(cin, ancienne_date, ancienne_heure, nouvelle_date, nouvelle_heure)\n",
    "            print(f\"Rendez-vous modifié pour le patient {cin}.\")\n",
    "        \n",
    "        elif choix == '6':\n",
    "            # Créer une ordonnance\n",
    "            cin = input(\"CIN du patient: \")\n",
    "            nom = input(\"Nom du patient: \")\n",
    "            prenom = input(\"Prénom du patient: \")\n",
    "            date_rdv = input(\"Date du rendez-vous (YYYY-MM-DD): \")\n",
    "            heure = input(\"Heure du rendez-vous (HH:MM): \")\n",
    "            medicaments = []\n",
    "            while True:\n",
    "                nom_medicament = input(\"Nom du médicament (ou 'fin' pour terminer): \")\n",
    "                if nom_medicament.lower() == 'fin':\n",
    "                    break\n",
    "                quantite = input(\"Quantité: \")\n",
    "                duree = input(\"Durée de traitement: \")\n",
    "                medicaments.append({'nom': nom_medicament, 'quantite': quantite, 'duree': duree})\n",
    "            creer_ordonnance(cin, nom, prenom, date_rdv, heure, medicaments)\n",
    "            print(f\"Ordonnance créée pour le patient {nom} {prenom}.\")\n",
    "        \n",
    "        elif choix == '7':\n",
    "            # Historique des consultations\n",
    "            cin = input(\"CIN du patient: \")\n",
    "            historique_patient(cin)\n",
    "            print(f\"Historique des consultations pour le patient {cin} créé.\")\n",
    "        \n",
    "        elif choix == '8':\n",
    "            # Tracer les consultations par mois\n",
    "            tracer_courbe_mensuelle()\n",
    "        \n",
    "        elif choix == '9':\n",
    "            # Tracer les consultations par année\n",
    "            tracer_courbe_annuelle()\n",
    "        \n",
    "        elif choix == '10':\n",
    "            # Quitter\n",
    "            print(\"Au revoir!\")\n",
    "            break\n",
    "        \n",
    "        else:\n",
    "            print(\"Option invalide, veuillez réessayer.\")\n",
    "\n",
    "# Lancer le programme principal\n",
    "if __name__ == \"__main__\":\n",
    "    main()"
   ]
  },
  {
   "cell_type": "code",
   "execution_count": null,
   "id": "bb0e9820",
   "metadata": {},
   "outputs": [],
   "source": []
  }
 ],
 "metadata": {
  "kernelspec": {
   "display_name": "Python 3 (ipykernel)",
   "language": "python",
   "name": "python3"
  },
  "language_info": {
   "codemirror_mode": {
    "name": "ipython",
    "version": 3
   },
   "file_extension": ".py",
   "mimetype": "text/x-python",
   "name": "python",
   "nbconvert_exporter": "python",
   "pygments_lexer": "ipython3",
   "version": "3.11.5"
  }
 },
 "nbformat": 4,
 "nbformat_minor": 5
}
